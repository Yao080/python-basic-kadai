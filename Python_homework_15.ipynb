{
  "nbformat": 4,
  "nbformat_minor": 0,
  "metadata": {
    "colab": {
      "provenance": []
    },
    "kernelspec": {
      "name": "python3",
      "display_name": "Python 3"
    },
    "language_info": {
      "name": "python"
    }
  },
  "cells": [
    {
      "cell_type": "code",
      "source": [
        "# ランダムな整数を利用するため記述\n",
        "import random\n",
        "\n",
        "# サイコロを振った出目の関数\n",
        "def dice_roll():\n",
        "    roll = random.randint(1, 6)\n",
        "    return roll\n",
        "\n",
        "# 結果を保存するための空リスト\n",
        "roll_results = []\n",
        "\n",
        "# 15回サイコロを振って結果をリストに追加\n",
        "for num in range(1, 16):\n",
        "    roll_result = dice_roll()\n",
        "    roll_results.append(roll_result)\n",
        "    print(f\"{num}回目の出目は{roll_result}です。\")\n",
        "\n",
        "# 最終的な結果リストを表示\n",
        "# print(roll_results)\n",
        "\n",
        "# リストの合計値を表示\n",
        "total = 0\n",
        "for r in roll_results:\n",
        "  total = total + r\n",
        "print(total)\n",
        "\n",
        "# リストの合計値に伴うコメントの表示\n",
        "if 50 <= total:\n",
        "  print(\"おめでとうございます。高得点です！\")\n",
        "else:\n",
        "  print(\"イマイチな点数でしたね。もう一度チャレンジしてみてください。\")"
      ],
      "metadata": {
        "colab": {
          "base_uri": "https://localhost:8080/"
        },
        "id": "32U2zpTtGf1N",
        "outputId": "48b8de53-2058-4ff9-804b-dcd1551c4883"
      },
      "execution_count": null,
      "outputs": [
        {
          "output_type": "stream",
          "name": "stdout",
          "text": [
            "1回目の出目は4です。\n",
            "2回目の出目は5です。\n",
            "3回目の出目は4です。\n",
            "4回目の出目は5です。\n",
            "5回目の出目は5です。\n",
            "6回目の出目は5です。\n",
            "7回目の出目は2です。\n",
            "8回目の出目は2です。\n",
            "9回目の出目は6です。\n",
            "10回目の出目は6です。\n",
            "11回目の出目は4です。\n",
            "12回目の出目は4です。\n",
            "13回目の出目は6です。\n",
            "14回目の出目は6です。\n",
            "15回目の出目は1です。\n",
            "65\n",
            "おめでとうございます。高得点です！\n"
          ]
        }
      ]
    }
  ]
}