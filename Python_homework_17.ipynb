{
  "nbformat": 4,
  "nbformat_minor": 0,
  "metadata": {
    "colab": {
      "provenance": []
    },
    "kernelspec": {
      "name": "python3",
      "display_name": "Python 3"
    },
    "language_info": {
      "name": "python"
    }
  },
  "cells": [
    {
      "cell_type": "code",
      "execution_count": null,
      "metadata": {
        "colab": {
          "base_uri": "https://localhost:8080/"
        },
        "id": "SZutR_s4Ql2Q",
        "outputId": "50f59d60-0a49-456b-8220-ba4839c62a6c"
      },
      "outputs": [
        {
          "output_type": "stream",
          "name": "stdout",
          "text": [
            "赤色のサイコロの合計値は64でした。\n",
            "青色のサイコロの合計値は46でした\n",
            "黄色のサイコロの合計値は52でした\n"
          ]
        }
      ],
      "source": [
        "#ランダムな整数を利用するため記述。\n",
        "import random\n",
        "\n",
        "# クラスを定義\n",
        "class Dice:\n",
        "  def __init__(self, color):\n",
        "    self.color = color\n",
        "    self.result = 0\n",
        "\n",
        "  def roll(self):\n",
        "    self.result = random.randint(1, 6)\n",
        "    return self.result\n",
        "\n",
        "# インスタンス化\n",
        "red_dice = Dice(\"赤色\")\n",
        "blue_dice = Dice(\"青色\")\n",
        "yellow_dice = Dice(\"黄色\")\n",
        "\n",
        "# 繰り返し処理の結果を入れるためのリスト\n",
        "red_dice.results = []\n",
        "blue_dice.results = []\n",
        "yellow_dice.results = []\n",
        "\n",
        "# 赤色のサイコロの15回振った結果とその合計値の表示\n",
        "for num in range(15):\n",
        "  red_dice.result = red_dice.roll()\n",
        "  red_dice.results.append(red_dice.result)\n",
        "\n",
        "red_total = 0\n",
        "for r in red_dice.results:\n",
        "  red_total = red_total + r\n",
        "print(f\"{red_dice.color}のサイコロの合計値は{red_total}でした。\")\n",
        "\n",
        "\n",
        "# 青色のサイコロの15回振った結果とその合計値の表示\n",
        "for num in range(15):\n",
        "  blue_dice.result = blue_dice.roll()\n",
        "  blue_dice.results.append(blue_dice.result)\n",
        "\n",
        "blue_total = 0\n",
        "for b in blue_dice.results:\n",
        "  blue_total = blue_total + b\n",
        "print(f\"{blue_dice.color}のサイコロの合計値は{blue_total}でした。\")\n",
        "\n",
        "# 黄色のサイコロの15回振った結果とその合計値の表示\n",
        "for num in range(15):\n",
        "  yellow_dice.result = yellow_dice.roll()\n",
        "  yellow_dice.results.append(yellow_dice.result)\n",
        "\n",
        "yellow_total = 0\n",
        "for r in yellow_dice.results:\n",
        "  yellow_total = yellow_total + r\n",
        "print(f\"{yellow_dice.color}のサイコロの合計値は{yellow_total}でした。\")"
      ]
    }
  ]
}