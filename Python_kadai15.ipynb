{
  "nbformat": 4,
  "nbformat_minor": 0,
  "metadata": {
    "colab": {
      "provenance": []
    },
    "kernelspec": {
      "name": "python3",
      "display_name": "Python 3"
    },
    "language_info": {
      "name": "python"
    }
  },
  "cells": [
    {
      "cell_type": "code",
      "source": [
        "class Human:\n",
        "  # コンストラクタを定義\n",
        "  def __init__(self):\n",
        "    self.name = \"\"\n",
        "    self.age = \"\"\n",
        "\n",
        "  # メソッドを定義する\n",
        "  def printinfo(self, name, age):\n",
        "    self.name = name\n",
        "    self.age = age\n",
        "    print(self.name)\n",
        "    print(self.age)\n",
        "\n",
        "# インスタンス化する\n",
        "personal = Human()\n",
        "\n",
        "# メソッドにアクセスして実行\n",
        "personal.printinfo(\"名無し\", \"35\")"
      ],
      "metadata": {
        "colab": {
          "base_uri": "https://localhost:8080/"
        },
        "id": "ewSJaZputdEP",
        "outputId": "e0a447b0-aa4b-4ea7-dd9a-6c8e0d88caf7"
      },
      "execution_count": 4,
      "outputs": [
        {
          "output_type": "stream",
          "name": "stdout",
          "text": [
            "名無し\n",
            "35\n"
          ]
        }
      ]
    }
  ]
}