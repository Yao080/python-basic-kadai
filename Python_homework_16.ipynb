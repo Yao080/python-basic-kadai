{
  "nbformat": 4,
  "nbformat_minor": 0,
  "metadata": {
    "colab": {
      "provenance": []
    },
    "kernelspec": {
      "name": "python3",
      "display_name": "Python 3"
    },
    "language_info": {
      "name": "python"
    }
  },
  "cells": [
    {
      "cell_type": "markdown",
      "source": [],
      "metadata": {
        "id": "O6CdxjNoRnI6"
      }
    },
    {
      "cell_type": "code",
      "source": [
        "import random\n",
        "\n",
        "# クラスを定義\n",
        "class Dice:\n",
        "    def __init__(self, color):\n",
        "        self.color = color\n",
        "\n",
        "    def roll(self):\n",
        "        results = []\n",
        "        for _ in range(15):\n",
        "            result = random.randint(1, 6)\n",
        "            results.append(result)\n",
        "        total = sum(results)\n",
        "        return total\n",
        "\n",
        "# インスタンス化\n",
        "red_dice = Dice(\"赤色\")\n",
        "blue_dice = Dice(\"青色\")\n",
        "yellow_dice = Dice(\"黄色\")\n",
        "\n",
        "# サイコロを振った合計値を表示\n",
        "red_total = red_dice.roll()\n",
        "print(f\"{red_dice.color}サイコロの合計値は{red_total}でした\")\n",
        "\n",
        "blue_total = blue_dice.roll()\n",
        "print(f\"{blue_dice.color}サイコロの合計値は{blue_total}でした\")\n",
        "\n",
        "yellow_total = yellow_dice.roll()\n",
        "print(f\"{yellow_dice.color}サイコロの合計値は{yellow_total}でした\")\n"
      ],
      "metadata": {
        "colab": {
          "base_uri": "https://localhost:8080/"
        },
        "id": "cTz3hCIbGHQm",
        "outputId": "efa28921-2919-45b0-fc0d-0b5ccb1b3e2b"
      },
      "execution_count": 11,
      "outputs": [
        {
          "output_type": "stream",
          "name": "stdout",
          "text": [
            "赤色サイコロの合計値は53でした\n",
            "青色サイコロの合計値は62でした\n",
            "黄色サイコロの合計値は53でした\n"
          ]
        }
      ]
    }
  ]
}