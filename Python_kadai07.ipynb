{
  "nbformat": 4,
  "nbformat_minor": 0,
  "metadata": {
    "colab": {
      "provenance": []
    },
    "kernelspec": {
      "name": "python3",
      "display_name": "Python 3"
    },
    "language_info": {
      "name": "python"
    }
  },
  "cells": [
    {
      "cell_type": "code",
      "execution_count": null,
      "metadata": {
        "id": "GmjAPgULHzT0"
      },
      "outputs": [],
      "source": []
    },
    {
      "cell_type": "code",
      "source": [
        "# リストの作成\n",
        "array = [\"明日は晴れです\", \"火曜日は雨です\", \"水曜日は晴れです\", \"木曜日は晴れです\", \"金曜日は曇りです\", \"土曜日は曇りのち雨です\", \"日曜日は雷雨です\"]\n",
        "\n",
        "# 水曜日の天気予報を抽出\n",
        "print(array[2])"
      ],
      "metadata": {
        "colab": {
          "base_uri": "https://localhost:8080/"
        },
        "id": "EHG68oRJICMN",
        "outputId": "0ef24553-3838-4100-c194-9eb93d24a2d8"
      },
      "execution_count": 4,
      "outputs": [
        {
          "output_type": "stream",
          "name": "stdout",
          "text": [
            "水曜日は晴れです\n"
          ]
        }
      ]
    },
    {
      "cell_type": "code",
      "source": [
        "# ディクショナリーの作成\n",
        "dictionary = {\"mon\": \"晴れ\", \"tue\": \"雨\", \"wed\": \"晴れ\", \"thu\": \"晴れ\", \"fri\": \"曇り\", \"sat\": \"曇りのち雨\", \"sun\": \"雷雨\"}\n",
        "\n",
        "# 水曜日の天気予報を抽出\n",
        "print(dictionary[\"wed\"])"
      ],
      "metadata": {
        "colab": {
          "base_uri": "https://localhost:8080/"
        },
        "id": "W-2HwqTKJ5yZ",
        "outputId": "610049a0-c709-44b7-cc35-b54fce9b3ebc"
      },
      "execution_count": 7,
      "outputs": [
        {
          "output_type": "stream",
          "name": "stdout",
          "text": [
            "晴れ\n"
          ]
        }
      ]
    }
  ]
}