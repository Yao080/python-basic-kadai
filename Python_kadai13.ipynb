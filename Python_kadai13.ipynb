{
  "nbformat": 4,
  "nbformat_minor": 0,
  "metadata": {
    "colab": {
      "provenance": []
    },
    "kernelspec": {
      "name": "python3",
      "display_name": "Python 3"
    },
    "language_info": {
      "name": "python"
    }
  },
  "cells": [
    {
      "cell_type": "code",
      "execution_count": 5,
      "metadata": {
        "colab": {
          "base_uri": "https://localhost:8080/"
        },
        "id": "is98gQSVOKfn",
        "outputId": "b46d4b66-a61e-4958-c0fb-04bb6c699487"
      },
      "outputs": [
        {
          "output_type": "stream",
          "name": "stdout",
          "text": [
            "1000円(税込み:1100.0円)\n"
          ]
        }
      ],
      "source": [
        "def total_price(price, tax):\n",
        "\n",
        "  # 与えられた引数priceとtaxの税金を計算しtax_amountに代入\n",
        "  tax_amount = price * (tax / 100)\n",
        "\n",
        "  # 与えられた引数priceと上記で計算した税金（tax_amount）を計算しtotal_priceに代入\n",
        "  total_price = price + tax_amount\n",
        "\n",
        "  # 戻り値を返す関数を定義\n",
        "  return f\"{price}円(税込み:{total_price}円)\"\n",
        "\n",
        "# 戻り値を返す関数を条件式に使う\n",
        "print(total_price(1000, 10))"
      ]
    }
  ]
}