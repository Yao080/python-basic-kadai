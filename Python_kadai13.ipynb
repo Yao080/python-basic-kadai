{
  "nbformat": 4,
  "nbformat_minor": 0,
  "metadata": {
    "colab": {
      "provenance": []
    },
    "kernelspec": {
      "name": "python3",
      "display_name": "Python 3"
    },
    "language_info": {
      "name": "python"
    }
  },
  "cells": [
    {
      "cell_type": "code",
      "execution_count": 1,
      "metadata": {
        "colab": {
          "base_uri": "https://localhost:8080/"
        },
        "id": "is98gQSVOKfn",
        "outputId": "fb335fa1-e8b6-4cc0-f090-5bd37e8d4b7d"
      },
      "outputs": [
        {
          "output_type": "stream",
          "name": "stdout",
          "text": [
            "100円(税込み:108.0円)\n"
          ]
        }
      ],
      "source": [
        "def total_price(price, tax):\n",
        "\n",
        "  # 与えられた引数priceとtaxの税金を計算しtax_amount代入\n",
        "  tax_amount = price * (tax / 100)\n",
        "\n",
        "  # 与えられた引数priceと上記で計算した税金（tax_amount）を計算しtotal_priceに代入\n",
        "  total_price = price + tax_amount\n",
        "\n",
        "  # 税抜き価格（price）と税込み価格（total_price）の値を出力\n",
        "  print(f\"{price}円(税込み:{total_price}円)\")\n",
        "\n",
        "# 関数を呼び出し、引数として購入金額と消費税を渡す\n",
        "total_price(100, 8)"
      ]
    }
  ]
}