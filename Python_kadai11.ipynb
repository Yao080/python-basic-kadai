{
  "nbformat": 4,
  "nbformat_minor": 0,
  "metadata": {
    "colab": {
      "provenance": []
    },
    "kernelspec": {
      "name": "python3",
      "display_name": "Python 3"
    },
    "language_info": {
      "name": "python"
    }
  },
  "cells": [
    {
      "cell_type": "code",
      "execution_count": 11,
      "metadata": {
        "colab": {
          "base_uri": "https://localhost:8080/"
        },
        "id": "PioE3EK_iOH6",
        "outputId": "2c54cf21-6ec4-4e75-c802-d64b48ec8a51"
      },
      "outputs": [
        {
          "output_type": "stream",
          "name": "stdout",
          "text": [
            "水\n",
            "金\n",
            "地\n",
            "火\n",
            "木\n",
            "土\n",
            "天\n",
            "海\n",
            "冥\n",
            "水\n",
            "金\n",
            "地\n",
            "火\n",
            "木\n",
            "土\n",
            "天\n",
            "海\n",
            "冥\n"
          ]
        }
      ],
      "source": [
        "planets = [\"水\",\"金\",\"地\",\"火\",\"木\",\"土\",\"天\",\"海\",\"冥\"]\n",
        "\n",
        "#  forを使ってplanetsの要素を1つずつ順番に出力\n",
        "for planet in planets:\n",
        "  print(planet)\n",
        "\n",
        "#  Whileを使ってplanetsの要素を1つずつ順番に出力\n",
        "num = 0\n",
        "while num < 9:\n",
        "  print(planets[num])\n",
        "  num += 1"
      ]
    }
  ]
}