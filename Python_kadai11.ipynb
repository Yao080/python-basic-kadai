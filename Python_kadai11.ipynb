{
  "nbformat": 4,
  "nbformat_minor": 0,
  "metadata": {
    "colab": {
      "provenance": []
    },
    "kernelspec": {
      "name": "python3",
      "display_name": "Python 3"
    },
    "language_info": {
      "name": "python"
    }
  },
  "cells": [
    {
      "cell_type": "code",
      "execution_count": 42,
      "metadata": {
        "colab": {
          "base_uri": "https://localhost:8080/"
        },
        "id": "PioE3EK_iOH6",
        "outputId": "3bcc8570-0bca-41d4-be1e-f2c650d905a6"
      },
      "outputs": [
        {
          "output_type": "stream",
          "name": "stdout",
          "text": [
            "水\n",
            "金\n",
            "地\n",
            "火\n",
            "木\n",
            "土\n",
            "天\n",
            "海\n",
            "冥\n",
            "水\n",
            "金\n",
            "地\n",
            "火\n",
            "木\n",
            "土\n",
            "天\n",
            "海\n"
          ]
        }
      ],
      "source": [
        "planets = [\"水\",\"金\",\"地\",\"火\",\"木\",\"土\",\"天\",\"海\",\"冥\"]\n",
        "\n",
        "#  forを使ってplanetsの要素を1つずつ順番に出力\n",
        "for planet in planets:\n",
        "  print(planet)\n",
        "\n",
        "# whileを使ってplanets の要素を1つずつ順番に出力\n",
        "i = 0\n",
        "while planets[i] != \"冥\":\n",
        "  print(planets[i])\n",
        "  i += 1"
      ]
    }
  ]
}