{
  "nbformat": 4,
  "nbformat_minor": 0,
  "metadata": {
    "colab": {
      "provenance": []
    },
    "kernelspec": {
      "name": "python3",
      "display_name": "Python 3"
    },
    "language_info": {
      "name": "python"
    }
  },
  "cells": [
    {
      "cell_type": "code",
      "execution_count": 10,
      "metadata": {
        "colab": {
          "base_uri": "https://localhost:8080/"
        },
        "id": "c48TD5dnxB5c",
        "outputId": "a0566782-05e2-4203-debb-56c98d26c804"
      },
      "outputs": [
        {
          "output_type": "stream",
          "name": "stdout",
          "text": [
            "Mikeさんは30歳のため成人となります。\n",
            "Johnさんは20歳のため成人となります。\n",
            "Adaさんは10歳のため未成年となります。\n"
          ]
        }
      ],
      "source": [
        "# classを定義\n",
        "class Human:\n",
        "  # 属性を定義\n",
        "  def __init__(self, name, age):\n",
        "    self.name = name\n",
        "    self.age = age\n",
        "\n",
        "  # check_adultのメソッドを定義\n",
        "  def check_adult(self):\n",
        "    if self.age >= 20:\n",
        "      print(f\"{self.name}さんは{self.age}歳のため成人となります。\")\n",
        "\n",
        "    else:\n",
        "      print(f\"{self.name}さんは{self.age}歳のため未成年となります。\")\n",
        "\n",
        "# インスタンス化\n",
        "mike = Human(\"Mike\", 30)\n",
        "john = Human(\"John\", 20)\n",
        "ada = Human(\"Ada\", 10)\n",
        "\n",
        "# インスタンスをリストに追加\n",
        "humans = [mike, john, ada]\n",
        "\n",
        "# リストの要素分データを出力\n",
        "for human in humans:\n",
        "  human.check_adult()"
      ]
    }
  ]
}