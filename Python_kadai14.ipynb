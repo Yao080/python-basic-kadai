{
  "nbformat": 4,
  "nbformat_minor": 0,
  "metadata": {
    "colab": {
      "provenance": []
    },
    "kernelspec": {
      "name": "python3",
      "display_name": "Python 3"
    },
    "language_info": {
      "name": "python"
    }
  },
  "cells": [
    {
      "cell_type": "code",
      "execution_count": null,
      "metadata": {
        "colab": {
          "base_uri": "https://localhost:8080/"
        },
        "id": "FTNZKmAhikWR",
        "outputId": "0d625f12-2d93-4fcf-a811-3aade7e7bec6"
      },
      "outputs": [
        {
          "output_type": "stream",
          "name": "stdout",
          "text": [
            "550.0\n",
            "330.0\n"
          ]
        }
      ],
      "source": [
        "# グローバル変数を定義\n",
        "price1 = 100\n",
        "price2 = 200\n",
        "tax = 1.1\n",
        "\n",
        "def total():\n",
        "  # ローカル変数を定義\n",
        "  price1 = 200\n",
        "  price2 = 300\n",
        "  tax = 1.1\n",
        "  total = (price1 + price2) * tax\n",
        "  # ローカルスコープ内でローカル変数を使用\n",
        "  print(total)\n",
        "\n",
        "total()\n",
        "\n",
        "# グローバルスコープの範囲内でグローバル変数を使用\n",
        "print ((price1 + price2) * tax)"
      ]
    }
  ]
}